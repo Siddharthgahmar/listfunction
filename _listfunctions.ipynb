{
 "cells": [
  {
   "cell_type": "markdown",
   "id": "cebf5981-ecd9-4968-9640-b28d07175905",
   "metadata": {},
   "source": [
    "Q1-What is the syntax for adding an element to a list in Python?\n",
    "Ans-We can use the \"append()\" method for adding the element"
   ]
  },
  {
   "cell_type": "code",
   "execution_count": 1,
   "id": "03761b8c-2318-43eb-a2e6-13af9eb4214a",
   "metadata": {},
   "outputs": [
    {
     "name": "stdout",
     "output_type": "stream",
     "text": [
      "[1, 2, 22, 33, 45, 56, 90]\n"
     ]
    }
   ],
   "source": [
    "l=[1,2,22,33,45,56]\n",
    "l.append(90)\n",
    "print(l)"
   ]
  },
  {
   "cell_type": "markdown",
   "id": "be438b09-63c7-4cf1-915b-26c87666fe13",
   "metadata": {},
   "source": [
    "Q2-What is the difference between remove() and pop() function in Python?\n",
    "Ans-"
   ]
  },
  {
   "cell_type": "code",
   "execution_count": 2,
   "id": "217e2d2f-b724-4fce-bd1a-9f693d3b3585",
   "metadata": {},
   "outputs": [
    {
     "name": "stdout",
     "output_type": "stream",
     "text": [
      "[1, 2, 22, 45, 56]\n"
     ]
    }
   ],
   "source": [
    "l=[1,2,22,33,45,56]  #remove function use for delete a specific letter which are present in the list\n",
    "l.remove(33)\n",
    "print(l)"
   ]
  },
  {
   "cell_type": "code",
   "execution_count": 3,
   "id": "05260822-5983-4bf3-acb8-320c18db645d",
   "metadata": {},
   "outputs": [
    {
     "name": "stdout",
     "output_type": "stream",
     "text": [
      "[1, 2, 22, 33, 45]\n"
     ]
    }
   ],
   "source": [
    "l=[1,2,22,33,45,56]   #pop function is used to delete the last element of the list\n",
    "l.pop()\n",
    "print(l)"
   ]
  },
  {
   "cell_type": "markdown",
   "id": "822356cb-cb06-48bb-a885-821fb32220db",
   "metadata": {},
   "source": [
    "Q3-Write a python code to sort a list in descending order.\n",
    "Ans-"
   ]
  },
  {
   "cell_type": "code",
   "execution_count": 7,
   "id": "d254b1c9-6b05-4021-aec7-32bbeef8fd4a",
   "metadata": {},
   "outputs": [
    {
     "name": "stdout",
     "output_type": "stream",
     "text": [
      "[98, 90, 67, 67, 56, 23]\n"
     ]
    }
   ],
   "source": [
    "l1=[23,67,90,98,67,56]\n",
    "l1.sort(reverse=True)\n",
    "print(l1)"
   ]
  },
  {
   "cell_type": "markdown",
   "id": "a049f36b-6940-4a18-ad01-17b9991d13ab",
   "metadata": {},
   "source": [
    "Q4-Write a python code count the number of occurrences of an element in a list.\n",
    "Ans-"
   ]
  },
  {
   "cell_type": "code",
   "execution_count": 9,
   "id": "a1d534e8-3fca-40f9-ae6e-c898c66cd1fe",
   "metadata": {},
   "outputs": [
    {
     "data": {
      "text/plain": [
       "6"
      ]
     },
     "execution_count": 9,
     "metadata": {},
     "output_type": "execute_result"
    }
   ],
   "source": [
    "l2=[1,22,22,34,22,56,22,67,22,78,22]\n",
    "l2.count(22)"
   ]
  },
  {
   "cell_type": "code",
   "execution_count": null,
   "id": "8fca2e72-eff2-4276-8d20-5ae7888cca14",
   "metadata": {},
   "outputs": [],
   "source": [
    "Q5-Write a pyth"
   ]
  },
  {
   "cell_type": "code",
   "execution_count": null,
   "id": "b40df6f2-ff1d-44e3-b9c7-e48e49e1188f",
   "metadata": {},
   "outputs": [],
   "source": []
  },
  {
   "cell_type": "code",
   "execution_count": null,
   "id": "adb3e843-6a29-4482-b493-9a9b3753c85c",
   "metadata": {},
   "outputs": [],
   "source": []
  },
  {
   "cell_type": "code",
   "execution_count": null,
   "id": "53b08995-b2be-4475-b924-f2fee9dfe2e7",
   "metadata": {},
   "outputs": [],
   "source": []
  },
  {
   "cell_type": "code",
   "execution_count": null,
   "id": "3d270861-5e16-4623-b419-6d2b2b2ce3dd",
   "metadata": {},
   "outputs": [],
   "source": []
  }
 ],
 "metadata": {
  "kernelspec": {
   "display_name": "Python 3 (ipykernel)",
   "language": "python",
   "name": "python3"
  },
  "language_info": {
   "codemirror_mode": {
    "name": "ipython",
    "version": 3
   },
   "file_extension": ".py",
   "mimetype": "text/x-python",
   "name": "python",
   "nbconvert_exporter": "python",
   "pygments_lexer": "ipython3",
   "version": "3.10.8"
  }
 },
 "nbformat": 4,
 "nbformat_minor": 5
}
